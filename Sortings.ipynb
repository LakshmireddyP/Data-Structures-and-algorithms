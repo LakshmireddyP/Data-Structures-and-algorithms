{
  "nbformat": 4,
  "nbformat_minor": 0,
  "metadata": {
    "colab": {
      "provenance": [],
      "toc_visible": true
    },
    "kernelspec": {
      "name": "python3",
      "display_name": "Python 3"
    },
    "language_info": {
      "name": "python"
    }
  },
  "cells": [
    {
      "cell_type": "markdown",
      "source": [
        "# **Quick**-**Sort**"
      ],
      "metadata": {
        "id": "FZdAglexmZzC"
      }
    },
    {
      "cell_type": "code",
      "source": [
        "def quick_sort(arr,left,right):\n",
        "    if left<right:\n",
        "        partition_pos=partition(arr,left,right)\n",
        "        quick_sort(arr,left,partition_pos-1)\n",
        "        quick_sort(arr,partition_pos+1,right)\n",
        "def partition(arr,left,right):\n",
        "    i=left\n",
        "    j=right-1\n",
        "    pivot=arr[right]\n",
        "    while i<j:\n",
        "        while i<right and arr[i]<pivot:\n",
        "            i+=1\n",
        "        while j>left and arr[j]>=pivot:\n",
        "            j-=1\n",
        "        if i<j:\n",
        "            arr[i],arr[j]=arr[j],arr[i]\n",
        "        if arr[i]>pivot:\n",
        "            arr[i],arr[right]=arr[right],arr[i]\n",
        "    return i"
      ],
      "metadata": {
        "id": "-1hsaF7Cr4VJ"
      },
      "execution_count": null,
      "outputs": []
    },
    {
      "cell_type": "code",
      "source": [
        "arr=[9,8,7,6,5,4,3,7,2,1]\n",
        "quick_sort(arr,0,len(arr)-1)\n",
        "print(arr)"
      ],
      "metadata": {
        "colab": {
          "base_uri": "https://localhost:8080/"
        },
        "id": "ZRYIRdm8omzL",
        "outputId": "d5d3c170-f021-4280-a0de-48350aa8a7b8"
      },
      "execution_count": null,
      "outputs": [
        {
          "output_type": "stream",
          "name": "stdout",
          "text": [
            "[1, 2, 3, 4, 5, 6, 7, 7, 8, 9]\n"
          ]
        }
      ]
    },
    {
      "cell_type": "code",
      "source": [],
      "metadata": {
        "id": "FK4_uusZo4Na"
      },
      "execution_count": null,
      "outputs": []
    },
    {
      "cell_type": "markdown",
      "source": [
        "# **Bubble sort**"
      ],
      "metadata": {
        "id": "QTgU2SHXs58g"
      }
    },
    {
      "cell_type": "code",
      "source": [
        "def bubble_sort(arr):\n",
        "    for k in range(len(arr)-1):\n",
        "        for i in range(len(arr)-k-1):\n",
        "            if arr[i]>arr[i+1]:\n",
        "                arr[i],arr[i+1]=arr[i+1],arr[i]\n",
        "    return arr\n",
        "print(bubble_sort([99,88,77,66,44,55,22,11,33]))\n",
        "\n"
      ],
      "metadata": {
        "id": "cBhY9yQps_F1",
        "colab": {
          "base_uri": "https://localhost:8080/"
        },
        "outputId": "f7388890-a63b-4b73-dac4-8344cc25c4e6"
      },
      "execution_count": null,
      "outputs": [
        {
          "output_type": "stream",
          "name": "stdout",
          "text": [
            "[11, 22, 33, 44, 55, 66, 77, 88, 99]\n"
          ]
        }
      ]
    },
    {
      "cell_type": "markdown",
      "source": [
        "# **Selection Sort**"
      ],
      "metadata": {
        "id": "hXBvnzujvupw"
      }
    },
    {
      "cell_type": "code",
      "source": [
        "def selection_sort(arr):\n",
        "    for i in range(len(arr)-1):\n",
        "        for j in range(i+1,len(arr)):\n",
        "            if arr[i]>arr[j]:\n",
        "                arr[i],arr[j]=arr[j],arr[i]\n",
        "    return arr\n",
        "arr=[99,88,77,66,44,55,22,11,33]\n",
        "print(selection_sort(arr))\n"
      ],
      "metadata": {
        "id": "qQ0P87FPH2EK",
        "colab": {
          "base_uri": "https://localhost:8080/"
        },
        "outputId": "e8d70455-65e8-4ae6-ceef-3a5f2f36435b"
      },
      "execution_count": null,
      "outputs": [
        {
          "output_type": "stream",
          "name": "stdout",
          "text": [
            "[11, 22, 33, 44, 55, 66, 77, 88, 99]\n"
          ]
        }
      ]
    },
    {
      "cell_type": "markdown",
      "source": [
        "# **Insertion Sort**"
      ],
      "metadata": {
        "id": "PzG2mE1jB4TV"
      }
    },
    {
      "cell_type": "code",
      "source": [
        "def insertion_sort(arr):\n",
        "    #This for loop is to loop unsorted sublist\n",
        "    for i in range(1,len(arr)):\n",
        "        temp=arr[i]\n",
        "        j=i-1\n",
        "\n",
        "        # this while is to loop sorted sub list\n",
        "        while (j>=0 and arr[j]>temp):\n",
        "            arr[j+1]=arr[j]\n",
        "            j-=1\n",
        "        arr[j+1]=temp\n",
        "    return arr\n",
        "arr=[99,88,77,66,44,55,22,11,33]\n",
        "insertion_sort(arr)\n"
      ],
      "metadata": {
        "colab": {
          "base_uri": "https://localhost:8080/"
        },
        "id": "Nns6g7JCwglz",
        "outputId": "b1e95a37-24a2-45fb-c0d9-370a387532c8"
      },
      "execution_count": null,
      "outputs": [
        {
          "output_type": "execute_result",
          "data": {
            "text/plain": [
              "[11, 22, 33, 44, 55, 66, 77, 88, 99]"
            ]
          },
          "metadata": {},
          "execution_count": 4
        }
      ]
    },
    {
      "cell_type": "markdown",
      "source": [
        "# **Merge Sort**"
      ],
      "metadata": {
        "id": "NyCXYmMltyKc"
      }
    },
    {
      "cell_type": "code",
      "source": [
        "def merge_sort(arr):\n",
        "    if len(arr)>1:\n",
        "        left_arr=arr[:len(arr)//2]\n",
        "        right_arr=arr[len(arr)//2:]\n",
        "\n",
        "        #recursive claa for dividing left and right arrays\n",
        "        merge_sort(left_arr)\n",
        "        merge_sort(right_arr)\n",
        "\n",
        "        #merge\n",
        "        i=0     #left_arr index\n",
        "        j=0     #right_arr index\n",
        "        k=0     #merged array index\n",
        "\n",
        "        while i<len(left_arr) and j<len(right_arr):\n",
        "            if left_arr[i]<right_arr[j]:\n",
        "                arr[k]=left_arr[i]\n",
        "                i+=1\n",
        "            else:\n",
        "                arr[k]=right_arr[j]\n",
        "                j+=1\n",
        "            k+=1\n",
        "        ## Checking if any extra elements are availble without comparision and adding them to arr\n",
        "        while i<len(left_arr):\n",
        "            arr[k]=left_arr[i]\n",
        "            i+=1\n",
        "            k+=1\n",
        "        while j<len(right_arr):\n",
        "            arr[k]=right_arr[j]\n",
        "            j+=1\n",
        "            k+=1\n",
        "    return arr\n",
        "\n",
        "\n",
        "arr=[99,88,77,66,44,55,22,11,33]\n",
        "print(merge_sort(arr))"
      ],
      "metadata": {
        "id": "nbPir8OLDSXf",
        "colab": {
          "base_uri": "https://localhost:8080/"
        },
        "outputId": "2f723735-16b1-40ae-af1b-a1640065ec2b"
      },
      "execution_count": null,
      "outputs": [
        {
          "output_type": "stream",
          "name": "stdout",
          "text": [
            "[11, 22, 33, 44, 55, 66, 77, 88, 99]\n"
          ]
        }
      ]
    },
    {
      "cell_type": "code",
      "source": [],
      "metadata": {
        "id": "_fe549KvuauK"
      },
      "execution_count": null,
      "outputs": []
    },
    {
      "cell_type": "code",
      "source": [],
      "metadata": {
        "id": "iyZdGC76E_7B"
      },
      "execution_count": null,
      "outputs": []
    }
  ]
}